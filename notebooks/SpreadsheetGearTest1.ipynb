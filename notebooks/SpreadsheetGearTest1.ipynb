{
 "cells": [
  {
   "cell_type": "markdown",
   "metadata": {},
   "source": [
    "### Using SpreadsheetGear in a .Net Jupyter Notebook"
   ]
  },
  {
   "cell_type": "markdown",
   "metadata": {},
   "source": [
    "### Each cell has a run button on the left. You can run cells in any order, but some cells have a dependency on another cell being run first. For this notebook run each cell in order from top to bottom. Another option is select menu 'Kernel|Restart and run all'."
   ]
  },
  {
   "cell_type": "code",
   "execution_count": null,
   "metadata": {},
   "outputs": [],
   "source": [
    "var a = \"hello world\";\n",
    "Console.WriteLine(a);"
   ]
  },
  {
   "cell_type": "code",
   "execution_count": null,
   "metadata": {},
   "outputs": [],
   "source": [
    "#r \"nuget:SpreadsheetGear, 8.3.40\""
   ]
  },
  {
   "cell_type": "code",
   "execution_count": null,
   "metadata": {},
   "outputs": [],
   "source": [
    "using SpreadsheetGear;"
   ]
  },
  {
   "cell_type": "code",
   "execution_count": null,
   "metadata": {},
   "outputs": [],
   "source": [
    "var inputFormula = \"TEXT(STDEV(1, 2, 3, 4), \\\"0.00\\\")\";"
   ]
  },
  {
   "cell_type": "code",
   "execution_count": null,
   "metadata": {},
   "outputs": [],
   "source": [
    "display(inputFormula) // display seems to be the equivalent of Console.WriteLine, and no ; needed"
   ]
  },
  {
   "cell_type": "code",
   "execution_count": null,
   "metadata": {},
   "outputs": [],
   "source": [
    "// Create a new empty workbook and get the first sheet.\n",
    "SpreadsheetGear.IWorkbook workbook =\n",
    "    SpreadsheetGear.Factory.GetWorkbook();\n",
    "\n",
    "SpreadsheetGear.IWorksheet worksheet = workbook.Worksheets[0];\n",
    "\n",
    "// Evaluate the input formula.\n",
    "object result = worksheet.EvaluateValue(inputFormula); // ****** I'm using inputFormula from Jupyter cell 4 above ******\n",
    "\n",
    "// Display the result to the user.\n",
    "string displayValue;\n",
    "if (result == null)\n",
    "    displayValue = \"Invalid Formula!\";\n",
    "else if (result is SpreadsheetGear.ValueError)\n",
    "{\n",
    "    SpreadsheetGear.ValueError valueError = \n",
    "        (SpreadsheetGear.ValueError)result;\n",
    "            displayValue = \n",
    "                \"Value Error: #\" + valueError.ToString().ToUpper() + \"!\";\n",
    "}\n",
    "else\n",
    "    displayValue = result.ToString();\n",
    "\n",
    "Console.WriteLine(\"Result calculated from EvaluateValue = \" + displayValue);"
   ]
  }
 ],
 "metadata": {
  "kernelspec": {
   "display_name": ".NET (C#)",
   "language": "C#",
   "name": ".net-csharp"
  },
  "language_info": {
   "file_extension": ".cs",
   "mimetype": "text/x-csharp",
   "name": "C#",
   "pygments_lexer": "csharp",
   "version": "8.0"
  }
 },
 "nbformat": 4,
 "nbformat_minor": 4
}
