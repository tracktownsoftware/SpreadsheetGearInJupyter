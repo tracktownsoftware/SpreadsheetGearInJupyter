{
 "cells": [
  {
   "cell_type": "code",
   "execution_count": null,
   "metadata": {
    "scrolled": true
   },
   "outputs": [],
   "source": [
    "# Run this cell once to import required packages\n",
    "!pip install pyexcelerate\n",
    "# from pyexcelerate import Workbook, Color, Style, Font, Fill, Format\n",
    "import pyexcelerate\n",
    "!pip install openpyxl\n",
    "import openpyxl\n",
    "!pip install xlsxwriter\n",
    "import xlsxwriter.workbook\n",
    "import random"
   ]
  },
  {
   "cell_type": "markdown",
   "metadata": {},
   "source": [
    "# Initialize the test data"
   ]
  },
  {
   "cell_type": "code",
   "execution_count": null,
   "metadata": {},
   "outputs": [],
   "source": [
    "ROWS = 1000\n",
    "COLUMNS = 100\n",
    "BOLD = 1\n",
    "ITALIC = 2\n",
    "UNDERLINE = 4\n",
    "RED_BG = 8\n",
    "\n",
    "# python syntax to initialize list (Rows) of lists (Columns) filled with default value of 1\n",
    "global testData, formatData\n",
    "testData = [[1] * COLUMNS] * ROWS \n",
    "formatData = [[1] * COLUMNS] * ROWS\n",
    "\n",
    "for row in range(ROWS):\n",
    "    for col in range(COLUMNS):\n",
    "        formatData[row][col] = random.randint(1, (1 << 4) - 1)\n",
    "        "
   ]
  },
  {
   "cell_type": "markdown",
   "metadata": {},
   "source": [
    "# PyExcelerate tests"
   ]
  },
  {
   "cell_type": "code",
   "execution_count": null,
   "metadata": {},
   "outputs": [],
   "source": [
    "%%timeit\n",
    "# Populate worksheet cells with values from testData[ROWS][COLS]\n",
    "wb = pyexcelerate.Workbook()\n",
    "wb.new_sheet(\"testData\", data=testData)\n",
    "wb.save(\"PyExcelerateValues.xlsx\")"
   ]
  },
  {
   "cell_type": "code",
   "execution_count": null,
   "metadata": {},
   "outputs": [],
   "source": [
    "%%timeit\n",
    "# Format worksheet cells with formatting from formatData[ROWS][COLS]\n",
    "wb = pyexcelerate.Workbook()\n",
    "ws = wb.new_sheet(\"formatting\")\n",
    "bold = pyexcelerate.Style(font=pyexcelerate.Font(bold=True))\n",
    "italic = pyexcelerate.Style(font=pyexcelerate.Font(italic=True))\n",
    "underline = pyexcelerate.Style(font=pyexcelerate.Font(underline=True))\n",
    "red = pyexcelerate.Style(fill=pyexcelerate.Fill(background=pyexcelerate.Color(255, 0, 0, 0)))\n",
    "for row in range(ROWS):\n",
    "    for col in range(COLUMNS):\n",
    "        ws.set_cell_value(row + 1, col + 1, 1)\n",
    "        style = pyexcelerate.Style()\n",
    "        if formatData[row][col] & BOLD:\n",
    "            style.font.bold = True\n",
    "        if formatData[row][col] & ITALIC:\n",
    "            style.font.italic = True\n",
    "        if formatData[row][col] & UNDERLINE:\n",
    "            style.font.underline = True\n",
    "        if formatData[row][col] & RED_BG:\n",
    "            style.fill.background = pyexcelerate.Color(255, 0, 0)\n",
    "        ws.set_cell_style(row + 1, col + 1, style)\n",
    "wb.save(\"PyExcelerateFormats.xlsx\")\n"
   ]
  },
  {
   "cell_type": "markdown",
   "metadata": {},
   "source": [
    "# XLSXWriter tests"
   ]
  },
  {
   "cell_type": "code",
   "execution_count": null,
   "metadata": {},
   "outputs": [],
   "source": [
    "%%timeit\n",
    "# Populate worksheet cells with values from testData[ROWS][COLS]\n",
    "wb = xlsxwriter.workbook.Workbook(\"XLSXWriterValues.xlsx\", {\"constant_memory\": True})\n",
    "ws = wb.add_worksheet()\n",
    "for row in range(ROWS):\n",
    "    for col in range(COLUMNS):\n",
    "        ws.write_number(row, col, 1)\n",
    "wb.close()"
   ]
  },
  {
   "cell_type": "code",
   "execution_count": null,
   "metadata": {},
   "outputs": [],
   "source": [
    "%%timeit\n",
    "# Format worksheet cells with formatting from formatData[ROWS][COLS]\n",
    "wb = xlsxwriter.workbook.Workbook(\"XLSXWriterFormats.xlsx\", {\"constant_memory\": True})\n",
    "ws = wb.add_worksheet()\n",
    "cell_formats = []\n",
    "for i in range(16):\n",
    "    cell_format = wb.add_format()\n",
    "    if i & BOLD:\n",
    "        cell_format.set_bold()\n",
    "    if i & ITALIC:\n",
    "        cell_format.set_italic()\n",
    "    if i & UNDERLINE:\n",
    "        cell_format.set_underline()\n",
    "    if i & RED_BG:\n",
    "        cell_format.set_bg_color(\"red\")\n",
    "    cell_formats.append(cell_format)\n",
    "\n",
    "for row in range(ROWS):\n",
    "    for col in range(COLUMNS):\n",
    "        ws.write_number(row, col, 1, cell_formats[formatData[row][col]])\n",
    "wb.close()"
   ]
  },
  {
   "cell_type": "markdown",
   "metadata": {},
   "source": [
    "# OpenPyXL tests"
   ]
  },
  {
   "cell_type": "code",
   "execution_count": null,
   "metadata": {},
   "outputs": [],
   "source": [
    "%%timeit\n",
    "# Populate worksheet cells with values from testData[ROWS][COLS]\n",
    "wb = openpyxl.workbook.Workbook(write_only=True)\n",
    "ws = wb.create_sheet()\n",
    "ws.title = \"Test 1\"\n",
    "for row in testData:\n",
    "    ws.append(row)\n",
    "wb.save(\"OpenPyXLValues.xlsx\")"
   ]
  },
  {
   "cell_type": "code",
   "execution_count": null,
   "metadata": {},
   "outputs": [],
   "source": [
    "%%timeit\n",
    "# Format worksheet cells with formatting from formatData[ROWS][COLS]\n",
    "wb = openpyxl.workbook.Workbook()\n",
    "ws = wb.create_sheet()\n",
    "ws.title = \"Test 1\"\n",
    "for col_idx in range(COLUMNS):\n",
    "    col = openpyxl.utils.get_column_letter(col_idx + 1)\n",
    "    for row in range(ROWS):\n",
    "        ws[\"%s%s\" % (col, row + 1)].value = 1\n",
    "        if formatData[row][col_idx] & BOLD:\n",
    "            ws[\"%s%s\" % (col, row + 1)].font = openpyxl.styles.Font(bold=True)\n",
    "        if formatData[row][col_idx] & ITALIC:\n",
    "            ws[\"%s%s\" % (col, row + 1)].font = openpyxl.styles.Font(italic=True)\n",
    "        if formatData[row][col_idx] & UNDERLINE:\n",
    "            ws[\"%s%s\" % (col, row + 1)].font = openpyxl.styles.Font(\n",
    "                underline=\"single\"\n",
    "            )\n",
    "        if formatData[row][col_idx] & RED_BG:\n",
    "            ws[\"%s%s\" % (col, row + 1)].fill = openpyxl.styles.PatternFill(\n",
    "                fill_type=openpyxl.styles.fills.FILL_SOLID,\n",
    "                start_color=openpyxl.styles.Color(openpyxl.styles.colors.RED),\n",
    "                end_color=openpyxl.styles.Color(openpyxl.styles.colors.RED),\n",
    "            )\n",
    "        ws[\"%s%s\" % (col, row + 1)].value = 1\n",
    "wb.save(\"OpenPyXLFormats.xlsx\")"
   ]
  }
 ],
 "metadata": {
  "kernelspec": {
   "display_name": "Python 3",
   "language": "python",
   "name": "python3"
  },
  "language_info": {
   "codemirror_mode": {
    "name": "ipython",
    "version": 3
   },
   "file_extension": ".py",
   "mimetype": "text/x-python",
   "name": "python",
   "nbconvert_exporter": "python",
   "pygments_lexer": "ipython3",
   "version": "3.7.6"
  }
 },
 "nbformat": 4,
 "nbformat_minor": 4
}
