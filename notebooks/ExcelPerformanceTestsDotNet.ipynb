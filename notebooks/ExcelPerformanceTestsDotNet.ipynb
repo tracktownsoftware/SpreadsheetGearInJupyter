{
 "cells": [
  {
   "cell_type": "code",
   "execution_count": null,
   "metadata": {
    "scrolled": true
   },
   "outputs": [],
   "source": [
    "// Run this cell once to import required packages\n",
    "#r \"nuget:SpreadsheetGear, 8.3.40\""
   ]
  },
  {
   "cell_type": "code",
   "execution_count": null,
   "metadata": {},
   "outputs": [],
   "source": [
    "// SpreadsheetGear License\n",
    "// SpreadsheetGear for .NET Standard:  Free use is limited to 1,000 rows x 100 columns x 10 worksheets x 3 workbooks. \n",
    "// Visit https://www.spreadsheetgear.com/downloads/signedlicense.aspx for more information.\n",
    "// SpreadsheetGear.Factory.SetSignedLicense(\"UNCOMMENT THIS LINE AND PUT YOUR SIGNED LICENSE HERE\");\n",
    "SpreadsheetGear.Factory.SetSignedLicense(\"SpreadsheetGear.License, Type=Standard, Hash=A+XCtL1WJiIkY80v4OEYXbi, Product=BND, NewVersionsUntil=2099-12-31, Company=Track Town Software, Email=chris@tracktownsoftware.com, Signature=v+OeZSc/1saOJPcCXDJgcaK1SXdgw3EpCKmMWXe71Xs'-#CDJz7FkQHvSoT8QBn7DhfZn3PkdYtOBR3bSeiF70mdwA#K\");"
   ]
  },
  {
   "cell_type": "markdown",
   "metadata": {},
   "source": [
    "# Initialize the test data"
   ]
  },
  {
   "cell_type": "code",
   "execution_count": null,
   "metadata": {},
   "outputs": [],
   "source": [
    "const int ROWS = 1000;\n",
    "const int COLUMNS = 100;\n",
    "const int BOLD = 1;\n",
    "const int ITALIC = 2;\n",
    "const int UNDERLINE = 4;\n",
    "const int RED_BG = 8;\n",
    "\n",
    "object[,] testData = new object[ROWS, COLUMNS]; \n",
    "int[,] formatData = new int[ROWS, COLUMNS];\n",
    "\n",
    "var random = new Random();\n",
    "for (int row = 0; row < ROWS; row++)\n",
    "{\n",
    "    for (int col = 0; col < COLUMNS; col++)\n",
    "    {\n",
    "        testData[row, col] = 1;\n",
    "        formatData[row, col] = random.Next(0, 15);\n",
    "    }\n",
    "}"
   ]
  },
  {
   "cell_type": "markdown",
   "metadata": {},
   "source": [
    "# SpreadsheetGear tests"
   ]
  },
  {
   "cell_type": "code",
   "execution_count": null,
   "metadata": {},
   "outputs": [],
   "source": [
    "// Populate worksheet cells with values from testData[ROWS][COLS]\n",
    "var watch = System.Diagnostics.Stopwatch.StartNew();\n",
    "const int LOOPNUMBER = 7;\n",
    "\n",
    "// do LOOPNUMBER times and report average time\n",
    "for (int i = 0; i < LOOPNUMBER; i++)\n",
    "{\n",
    "    SpreadsheetGear.IWorkbook workbook = SpreadsheetGear.Factory.GetWorkbook();\n",
    "    SpreadsheetGear.IWorksheet worksheet = workbook.Worksheets[0];\n",
    "\n",
    "    SpreadsheetGear.IRange cells = worksheet.Cells;\n",
    "    SpreadsheetGear.IRange range = cells[0,0,ROWS - 1,COLUMNS - 1];\n",
    "    range.Value = testData;\n",
    "    workbook.SaveAs(\"SpreadsheetGearValues\" + \".xlsx\",SpreadsheetGear.FileFormat.OpenXMLWorkbook);\n",
    "}\n",
    "\n",
    "watch.Stop();\n",
    "var elapsedMs = watch.ElapsedMilliseconds;\n",
    "Console.WriteLine(\"Average time: \" + elapsedMs/LOOPNUMBER +  \" milliseconds\");"
   ]
  },
  {
   "cell_type": "code",
   "execution_count": null,
   "metadata": {},
   "outputs": [],
   "source": [
    "// Populate worksheet cells with values from testData[ROWS][COLS]\n",
    "var watch = System.Diagnostics.Stopwatch.StartNew();\n",
    "const int LOOPNUMBER = 7;\n",
    "\n",
    "// do 7 times and report average time\n",
    "for (int i = 0; i < LOOPNUMBER; i++)\n",
    "{\n",
    "    SpreadsheetGear.IWorkbook workbook = SpreadsheetGear.Factory.GetWorkbook();\n",
    "    SpreadsheetGear.IWorksheet worksheet = workbook.Worksheets[0];\n",
    "    SpreadsheetGear.IRange cells = worksheet.Cells;\n",
    "    for (int row = 0; row < ROWS; row++)\n",
    "    {\n",
    "        for (int col = 0; col < COLUMNS; col++)\n",
    "        {\n",
    "            SpreadsheetGear.IRange cell = cells[row, col];\n",
    "            cell.Value = testData[row, col];\n",
    "            if ((formatData[row, col] & ITALIC) == ITALIC)\n",
    "                cell.Font.Italic = true;\n",
    "            if ((formatData[row, col] & BOLD) == BOLD)\n",
    "                cell.Font.Bold = true;\n",
    "            if ((formatData[row, col] & UNDERLINE) == UNDERLINE)\n",
    "                cell.Font.Underline = SpreadsheetGear.UnderlineStyle.Single;\n",
    "            if ((formatData[row, col] & RED_BG) == RED_BG)\n",
    "                cell.Interior.Color = SpreadsheetGear.Colors.Red;\n",
    "        }\n",
    "    }\n",
    "    workbook.SaveAs(\"SpreadsheetGearFormats.xlsx\",SpreadsheetGear.FileFormat.OpenXMLWorkbook);\n",
    "}\n",
    "\n",
    "watch.Stop();\n",
    "var elapsedMs = watch.ElapsedMilliseconds/LOOPNUMBER;\n",
    "Console.WriteLine(\"Average time: \" + elapsedMs + \" milliseconds\");\n"
   ]
  },
  {
   "cell_type": "code",
   "execution_count": null,
   "metadata": {},
   "outputs": [],
   "source": []
  },
  {
   "cell_type": "code",
   "execution_count": null,
   "metadata": {},
   "outputs": [],
   "source": []
  }
 ],
 "metadata": {
  "kernelspec": {
   "display_name": ".NET (C#)",
   "language": "C#",
   "name": ".net-csharp"
  },
  "language_info": {
   "file_extension": ".cs",
   "mimetype": "text/x-csharp",
   "name": "C#",
   "pygments_lexer": "csharp",
   "version": "8.0"
  }
 },
 "nbformat": 4,
 "nbformat_minor": 4
}
