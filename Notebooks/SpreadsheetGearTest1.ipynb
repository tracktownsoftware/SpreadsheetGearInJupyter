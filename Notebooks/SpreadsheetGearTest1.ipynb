{
 "cells": [
  {
   "cell_type": "markdown",
   "metadata": {},
   "source": [
    "### Using SpreadsheetGear in a .Net Jupyter Notebook"
   ]
  },
  {
   "cell_type": "code",
   "execution_count": 1,
   "metadata": {},
   "outputs": [
    {
     "data": {
      "text/html": [
       "<script type=\"text/javascript\">#!javascript\r\n",
       "if ((typeof(requirejs) !==  typeof(Function)) || (typeof(requirejs.config) !== typeof(Function))) { \r\n",
       "    let script = document.createElement(\"script\"); \r\n",
       "    script.setAttribute(\"src\", \"https://cdnjs.cloudflare.com/ajax/libs/require.js/2.3.6/require.min.js\"); \r\n",
       "    script.onload = function(){\r\n",
       "        loadDotnetInteractiveApi();\r\n",
       "    };\r\n",
       "    document.getElementsByTagName(\"head\")[0].appendChild(script); \r\n",
       "}\r\n",
       "else {\r\n",
       "    loadDotnetInteractiveApi();\r\n",
       "}\r\n",
       "\r\n",
       "function loadDotnetInteractiveApi(){\r\n",
       "    let apiRequire = requirejs.config({context:\"dotnet-interactive.20696.60327\",paths:{dotnetInteractive:\"http://localhost:60327/resources/dotnet-interactive\"}});\r\n",
       "    apiRequire(['dotnetInteractive'], \r\n",
       "    function(api) {       \r\n",
       "        api.createDotnetInteractiveClient(\"http://localhost:60327/\", window);\r\n",
       "    },\r\n",
       "    function(error){\r\n",
       "        console.log(error);\r\n",
       "    });\r\n",
       "}</script>"
      ]
     },
     "metadata": {},
     "output_type": "display_data"
    },
    {
     "name": "stdout",
     "output_type": "stream",
     "text": [
      "hello world\r\n"
     ]
    }
   ],
   "source": [
    "var a = \"hello world\";\n",
    "Console.WriteLine(a);"
   ]
  },
  {
   "cell_type": "code",
   "execution_count": 2,
   "metadata": {},
   "outputs": [
    {
     "data": {
      "text/html": [
       "Installed package SpreadsheetGear version 8.3.40"
      ]
     },
     "metadata": {},
     "output_type": "display_data"
    }
   ],
   "source": [
    "#r \"nuget:SpreadsheetGear, 8.3.40\""
   ]
  },
  {
   "cell_type": "code",
   "execution_count": 3,
   "metadata": {},
   "outputs": [],
   "source": [
    "using SpreadsheetGear;"
   ]
  },
  {
   "cell_type": "code",
   "execution_count": 4,
   "metadata": {},
   "outputs": [],
   "source": [
    "var inputFormula = \"TEXT(STDEV(1, 2, 3, 4), \\\"0.00\\\")\";"
   ]
  },
  {
   "cell_type": "code",
   "execution_count": 6,
   "metadata": {},
   "outputs": [
    {
     "data": {
      "text/plain": [
       "TEXT(STDEV(1, 2, 3, 4), \"0.00\")"
      ]
     },
     "metadata": {},
     "output_type": "display_data"
    }
   ],
   "source": [
    "display(inputFormula) // display seems to be the equivalent of Console.WriteLine, and no ; needed"
   ]
  },
  {
   "cell_type": "code",
   "execution_count": 7,
   "metadata": {},
   "outputs": [
    {
     "name": "stdout",
     "output_type": "stream",
     "text": [
      "Result calculated from EvaluateValue = 1.29\r\n"
     ]
    }
   ],
   "source": [
    "// Create a new empty workbook and get the first sheet.\n",
    "SpreadsheetGear.IWorkbook workbook =\n",
    "    SpreadsheetGear.Factory.GetWorkbook();\n",
    "\n",
    "SpreadsheetGear.IWorksheet worksheet = workbook.Worksheets[0];\n",
    "\n",
    "// Evaluate the input formula.\n",
    "object result = worksheet.EvaluateValue(inputFormula); // ****** I'm using inputFormula from Jupyter cell 4 above ******\n",
    "\n",
    "// Display the result to the user.\n",
    "string displayValue;\n",
    "if (result == null)\n",
    "    displayValue = \"Invalid Formula!\";\n",
    "else if (result is SpreadsheetGear.ValueError)\n",
    "{\n",
    "    SpreadsheetGear.ValueError valueError = \n",
    "        (SpreadsheetGear.ValueError)result;\n",
    "            displayValue = \n",
    "                \"Value Error: #\" + valueError.ToString().ToUpper() + \"!\";\n",
    "}\n",
    "else\n",
    "    displayValue = result.ToString();\n",
    "\n",
    "Console.WriteLine(\"Result calculated from EvaluateValue = \" + displayValue);"
   ]
  }
 ],
 "metadata": {
  "kernelspec": {
   "display_name": ".NET (C#)",
   "language": "C#",
   "name": ".net-csharp"
  },
  "language_info": {
   "file_extension": ".cs",
   "mimetype": "text/x-csharp",
   "name": "C#",
   "pygments_lexer": "csharp",
   "version": "8.0"
  }
 },
 "nbformat": 4,
 "nbformat_minor": 4
}
